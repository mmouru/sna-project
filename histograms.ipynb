{
 "cells": [
  {
   "cell_type": "code",
   "execution_count": null,
   "metadata": {},
   "outputs": [],
   "source": [
    "import matplotlib.pyplot as plt\n",
    "from langdetect import detect\n",
    "import pandas as pd\n",
    "import numpy as np"
   ]
  },
  {
   "cell_type": "code",
   "execution_count": null,
   "metadata": {},
   "outputs": [],
   "source": [
    "# read values feom excel database\n",
    "xlsx_path = 'tweets_database.xlsx'\n",
    "data = pd.read_excel(xlsx_path)"
   ]
  },
  {
   "cell_type": "markdown",
   "metadata": {},
   "source": [
    "Assignment section 2"
   ]
  },
  {
   "cell_type": "code",
   "execution_count": null,
   "metadata": {},
   "outputs": [],
   "source": [
    "# plot individual hashtags and their counts\n",
    "data.HASHTAG.value_counts().plot.bar()\n",
    "# naming\n",
    "plt.title(\"Popularity of the main hashtags\")\n",
    "plt.xlabel(\"Hashtag\")\n",
    "plt.ylabel(\"Count\")\n",
    "plt.show()"
   ]
  },
  {
   "cell_type": "code",
   "execution_count": null,
   "metadata": {},
   "outputs": [],
   "source": [
    "# plot individual users per individual hashtags\n",
    "data.groupby('HASHTAG')['AUTHOR ID'].nunique().plot.bar()\n",
    "# naming\n",
    "plt.title(\"Number of distinct Tweet users perindividual hashtag\")\n",
    "plt.xlabel(\"Hashtag\")\n",
    "plt.ylabel(\"Unique users\")\n",
    "plt.show()"
   ]
  },
  {
   "cell_type": "markdown",
   "metadata": {},
   "source": [
    "Assignment section 3"
   ]
  },
  {
   "cell_type": "code",
   "execution_count": null,
   "metadata": {},
   "outputs": [],
   "source": [
    "# percentage of tweets with location available\n",
    "available_and_hidden_counts = np.array([data.LOCATION.count(), data.LOCATION.isna().sum()])\n",
    "titles = [\"Location available\", \"Location hidden\"]\n",
    "plt.pie(available_and_hidden_counts, labels = titles, autopct='%1.1f%%', startangle=90)\n",
    "plt.show()"
   ]
  },
  {
   "cell_type": "code",
   "execution_count": null,
   "metadata": {},
   "outputs": [],
   "source": [
    "# identify languages\n",
    "languages = {}\n",
    "for text in data.TEXT.values:\n",
    "    recognized = detect(text)\n",
    "    if recognized in languages:\n",
    "        languages[recognized] += 1\n",
    "    else:\n",
    "        languages[recognized] = 1\n",
    "# initialize for visualizing\n",
    "lang_titles = []\n",
    "language_counts = []\n",
    "for language in languages:\n",
    "    lang_titles.append(language)\n",
    "    language_counts.append(languages[language])\n",
    "# visualize\n",
    "plt.pie(language_counts, labels = lang_titles, autopct='%1.1f%%', startangle=90)\n",
    "plt.show()\n"
   ]
  }
 ],
 "metadata": {
  "kernelspec": {
   "display_name": "Python 3 (ipykernel)",
   "language": "python",
   "name": "python3"
  },
  "language_info": {
   "codemirror_mode": {
    "name": "ipython",
    "version": 3
   },
   "file_extension": ".py",
   "mimetype": "text/x-python",
   "name": "python",
   "nbconvert_exporter": "python",
   "pygments_lexer": "ipython3",
   "version": "3.9.11"
  }
 },
 "nbformat": 4,
 "nbformat_minor": 2
}
