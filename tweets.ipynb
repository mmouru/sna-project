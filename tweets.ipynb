{
 "cells": [
  {
   "cell_type": "code",
   "execution_count": 2,
   "id": "bbf3d21f",
   "metadata": {},
   "outputs": [],
   "source": [
    "import tweepy\n",
    "import config as cfg\n",
    "import xlsxwriter  # for excel file"
   ]
  },
  {
   "cell_type": "code",
   "execution_count": 3,
   "id": "a397deec",
   "metadata": {},
   "outputs": [],
   "source": [
    "client = tweepy.Client(bearer_token=cfg.BEARER_TOKEN)"
   ]
  },
  {
   "cell_type": "code",
   "execution_count": 58,
   "id": "f0d840e5",
   "metadata": {},
   "outputs": [],
   "source": [
    "query1 = '#stopsmoking'\n",
    "query2 = '#smokefree'\n",
    "query3 = '#smokefreelifestyle'\n",
    "query4 = '#quitsmoking'\n",
    "query5 = \"#tobaccofree\"\n",
    "queries = ['#stopsmoking', '#smokefree', '#quitsmoking', '#tobaccofree']\n",
    "responses = []\n",
    "for query in queries:\n",
    "    response = tweepy.Paginator(client.search_recent_tweets, query, max_results=100)\n",
    "    responses.append(response)\n"
   ]
  },
  {
   "cell_type": "code",
   "execution_count": 55,
   "id": "8a605044",
   "metadata": {},
   "outputs": [
    {
     "name": "stdout",
     "output_type": "stream",
     "text": [
      "<tweepy.pagination.Paginator object at 0x00000281FB8423A0>\n"
     ]
    }
   ],
   "source": [
    "responses = tweepy.Paginator(client.search_recent_tweets, '#stopsmoking OR \"#smokefree\"', max_results=100)\n",
    "print(responses)"
   ]
  },
  {
   "cell_type": "code",
   "execution_count": 60,
   "id": "fd358847",
   "metadata": {},
   "outputs": [],
   "source": [
    "tweet_ids = []\n",
    "\n",
    "for response in responses:\n",
    "    for page in response:\n",
    "        for tweets in page:\n",
    "            #print(tweets)\n",
    "            if tweets and isinstance(tweets, list):\n",
    "                for tweet in tweets:\n",
    "                    tweet_ids.append(tweet.id)\n",
    "        #if isinstance(tweet, list):\n",
    "         #   if t"
   ]
  },
  {
   "cell_type": "code",
   "execution_count": 61,
   "id": "95c417cd",
   "metadata": {},
   "outputs": [
    {
     "name": "stdout",
     "output_type": "stream",
     "text": [
      "1388\n"
     ]
    }
   ],
   "source": [
    "print(len(tweet_ids))\n"
   ]
  },
  {
   "cell_type": "code",
   "execution_count": 15,
   "id": "ee4bd8ca",
   "metadata": {},
   "outputs": [
    {
     "name": "stdout",
     "output_type": "stream",
     "text": [
      "Response(data=<Tweet id=1516125083252703239 text='2022-04-18 18:42:42.663791 tweepy'>, includes={'users': [<User id=1352604672029155328 name=qwb username=qwbtwi>]}, errors=[], meta={})\n"
     ]
    }
   ],
   "source": [
    "tweets_response = client.get_tweet(id=tweet_ids[0],expansions=[\"author_id\",\"geo.place_id\"],place_fields=\"country\")\n",
    "\n",
    "\n"
   ]
  },
  {
   "cell_type": "code",
   "execution_count": 20,
   "id": "3df8108a",
   "metadata": {},
   "outputs": [
    {
     "name": "stdout",
     "output_type": "stream",
     "text": [
      "{'users': [<User id=1352604672029155328 name=qwb username=qwbtwi>]}\n"
     ]
    }
   ],
   "source": [
    "print(tweets_response.includes)"
   ]
  },
  {
   "cell_type": "code",
   "execution_count": 17,
   "id": "63473b06",
   "metadata": {},
   "outputs": [
    {
     "name": "stdout",
     "output_type": "stream",
     "text": [
      "2022-04-18 18:42:42.663791 tweepy\n",
      "{'users': [<User id=1352604672029155328 name=qwb username=qwbtwi>]}\n",
      "[]\n",
      "{}\n"
     ]
    }
   ],
   "source": [
    "for tweet in tweets_response:\n",
    "    print(tweet)"
   ]
  },
  {
   "cell_type": "code",
   "execution_count": 27,
   "id": "6f3401eb",
   "metadata": {},
   "outputs": [
    {
     "name": "stdout",
     "output_type": "stream",
     "text": [
      "Response(data=<Tweet id=1514173290096611332 text=\"RT @NewingtonChemi1: It's never too late to #JoinTheQuitters.\\n\\nContact us for #StopSmoking advice, products and support.\\n\\nEvery day is a go…\">, includes={'users': [<User id=1375244479049895941 name=Preventive Medicine Bot username=PreventiveBot>]}, errors=[], meta={})\n"
     ]
    },
    {
     "data": {
      "text/plain": [
       "True"
      ]
     },
     "execution_count": 27,
     "metadata": {},
     "output_type": "execute_result"
    }
   ],
   "source": [
    "# we have to decide how to choose the main hashtag from two somehow (not implemented yet)\n",
    "\n",
    "print(tweets_response)\n",
    "author_id = tweets_response.includes[\"users\"][0].id\n",
    "tweet_data = tweets_response.data\n",
    "\"#stopsmoking\" in tweet_data.text.lower()\n",
    "\n",
    "def main_hashtag(text):\n",
    "    if '#stopsmoking' in text:\n",
    "        return \"#stopsmoking\"\n",
    "    elif '#smokefree' in text:\n",
    "        return '#smokefree'\n",
    "    elif '#quitsmoking' in text:\n",
    "        return '#quitsmoking'\n",
    "    elif '#tobaccofree' in text:\n",
    "        return '#tobaccofree'\n",
    "    else: return 'no hashtag'"
   ]
  },
  {
   "cell_type": "code",
   "execution_count": 32,
   "id": "80c70243",
   "metadata": {},
   "outputs": [
    {
     "name": "stdout",
     "output_type": "stream",
     "text": [
      "Response(data=[<User id=3235982505 name=Jayne Allison username=jaynelouisealli>, <User id=1449386587838685186 name=All topics of life username=Alltopicsoflife>, <User id=1468637514894553088 name=PrettyLoudProject username=BePrettyLoud>, <User id=2908821793 name=iSono Health username=isonohealth>, <User id=1059815347153444865 name=Tamara Escañuela Sánchez username=EscanuelaTamara>, <User id=1151538204291416065 name=Peyton Stout username=PeytonStout20>, <User id=1381874581439397889 name=Jessica Perugini username=JessicaPerugin3>, <User id=1511775273414545415 name=Idealistic 💡🇳🇬✨😚 username=a_gift2you>, <User id=1394247037839937537 name=LAGARON SANDRINE username=LagaronS>, <User id=972053101 name=Leslie Ferris Yerger username=Leslie_Ferris>, <User id=1511158493625126923 name=Jesse Riddle username=HoosierManeuver>, <User id=1476224553693106179 name=ContentGeneMD username=ContentGeneMD>, <User id=715137655240060929 name=Jean Mieg username=jean_mieg>, <User id=1347128460934844417 name=GenoMed4All H2020 project username=genomed4all>, <User id=1501491886447542275 name=AT username=at_amai>, <User id=1283269973146611712 name=Dr Guoyan Emily Yang username=EmilyGuoyan>, <User id=963855686630244352 name=Vikram Sinai Talaulikar username=VikramSinai>, <User id=1235663978187157509 name=Gen Z and Millennials Against 5G username=YouthAgainst5G>, <User id=44425721 name=Zoleka Mandela username=ZolekaMandela>, <User id=1222541387322753026 name=Institut Renaudot username=IRenaudot>, <User id=1171091058991804416 name=Jenn Houseman username=JENNIFERHousem2>, <User id=1270789866083594240 name=End Pandemics username=EndPandemics>, <User id=1344337388496015361 name=Plant Power 🍏🍎🍑🍅🥦 username=plantpowerdiets>, <User id=898918403146227712 name=Lucia Pia Ciccone, MD username=LpCiccone>, <User id=1061457530 name=Paul Rosengard username=paulrosengard>, <User id=1145438976234467330 name=Bharat username=Bhosale26Bharat>, <User id=1509430495616155648 name=Bella username=Bella10214486>, <User id=1553086760 name=Fidaa ghazal username=FidaaGhazal>, <User id=1156169516143038465 name=Stay Safe username=StaySafeorg>, <User id=414652290 name=Sussex Cancer Fund username=SxCancerFund>, <User id=1486723574291337217 name=Simones De Gaulléon username=SDegaulleon>, <User id=38239502 name=Dr Denise Proudfoot 😷 username=Denproud>, <User id=56124776 name=Tracy Parr username=TracyDBeaker>, <User id=1139491890280239107 name=Association Nationale Cheville du Sportif - ANCIS username=Dr_C_Cermolacce>, <User id=1421744814438207489 name=Dances with Cancer username=FamilialGenes>, <User id=894940062 name=Naomi Davies, MSc username=naomi_jayne06>, <User id=25602947 name=Deirdre Jackson username=dasuat>, <User id=1496449712093896707 name=asklipios_diagnosis username=asklipios_>, <User id=1214828200540463104 name=Elimaje username=Elimaje1>, <User id=772716782507462656 name=Key Unlocking Futures username=KeyUFCharity>, <User id=1267363318991327233 name=Dr. Marianne Moussallem username=MarianneMsallem>, <User id=940206592192065536 name=Cancer Care Surrey username=CancerAtSurrey>, <User id=1331778830265061376 name=Frontiers in Bioscience-Landmark username=BiosciResInst>, <User id=1250552498009620480 name=Advantage Hypnotherapy username=AdvantageHypno>, <User id=1450838370528251915 name=Assisting TCA username=TherapyCareApp>, <User id=1423180938671017985 name=Clinique médicale et cardiologique d'Aressy username=cliniquearessy>, <User id=1057379445412106240 name=Corine Masson username=cmasson_sante>, <User id=43948275 name=Diabetes Self-Mgmt username=ManageDiabetes>, <User id=1095373048700719106 name=SP FORMA - Formations CACES® et Sécurité username=forma_sp>, <User id=23361767 name=Shane Lambert - Indie Author username=UncoolNegated>, <User id=2426610068 name=Sajan Nagpal, MD username=sajannagpalMD>, <User id=1227346511098499072 name=🍀 Willie_7-1 🍀 username=Willie7118>, <User id=799512162 name=maria montoya username=prekrox>, <User id=1408472764172877832 name=Healthy Living username=Healthy86517392>, <User id=419440883 name=Milos Stojanovic username=StojanovM>, <User id=2395436191 name=Jeff R Temple, PhD username=DrJeffTemple>, <User id=609649133 name=Dr. Farabeuf username=DrFarabeufCx>, <User id=1294360100212219906 name=ChrisFreeMan username=Chris_FreeMan88>, <User id=33528248 name=NAACCR, Inc. username=NAACCR>, <User id=1114939783191638019 name=Roberta Horgan 🇨🇮 🇺🇦 username=HorganRoberta>, <User id=951004667542212610 name=eroslifestyle username=Eros_Lifestyle>, <User id=132644052 name=Count Me In username=count_me_in>, <User id=1487014282625699843 name=JP Jewellers Morbi username=JpMorbi>, <User id=1377516656147230720 name=ARAP Rubis username=ArapRubis>, <User id=1504687598035513345 name=Guinée Action Pour Le Développement (GAD) username=gadguinee>, <User id=1176975242683715589 name=Valentin Calu username=ValentinCalu>, <User id=3376220441 name=Benjamin Levy username=BenLevyCello>, <User id=1500204975557058560 name=Ef-seller username=stsr969911>, <User id=286057102 name=Muhammad ayaz abbasi username=asn_abbasi786>, <User id=719211993035644930 name=ONUSIDA HAITI username=OnusidaHaiti>, <User id=1494368501607194636 name=Changing Life & Destiny Conference username=changelifedest>, <User id=1265363310339411968 name=Dépistage des cancers en Ile-de-France username=CRCDC_IDF>, <User id=1351128442306252803 name=shweta baral username=BaralShweta>, <User id=1488612825492766728 name=Nicole Lewis username=NicoleL49793834>, <User id=3436662533 name=Bichat Addiction username=bichataddiction>, <User id=4030418128 name=Brian Brown username=brown_brian_>, <User id=1422521888148967424 name=Munir Faswala username=munir_faswala>, <User id=897010900548407296 name=Cat McGill 😎🧚‍♀️🤦🏼‍♀️ username=RealCatMcGill>, <User id=827645687458385926 name=HERVE CARRESSE username=WALTERLURE75>, <User id=848737340319309824 name=Duduna Porbeni username=DudunaPorbeni>, <User id=1350002229755990017 name=CRCDC Grand Est username=CrcdcEst>, <User id=3412106097 name=fazilshah shalmani username=ShahMahik>, <User id=1047940296938586113 name=Amelie BOSSARD username=AmelieBossard>, <User id=2869470708 name=Dr. Todd Ewing PhD username=EwingT_PhD>, <User id=1501479561984364547 name=Viral Hospital username=HospitalViral>, <User id=1885493390 name=Daljit ਦਲਜੀਤ 🌈 RGN RSCN RHV MBA username=daljitathwal>, <User id=387379453 name=Ronald Hsu MD username=rkhsusa>, <User id=1093983823182917633 name=Dr Lucy McGregor username=drlucymcg>, <User id=1375134947111890953 name=Revesolv username=Revesolv1>, <User id=910335668 name=Choupo-Moting username=mizulfitri>, <User id=1027760989 name=David Reynolds McCormick username=NoDaveme>, <User id=1428898320102068224 name=Ojay Salomon username=OjaySalomon>, <User id=1502440881055539201 name=Live and learn username=FightingMail>, <User id=1354797877420154889 name=Tobacco Harm Reduction CZ username=HarmReductionCZ>, <User id=1405454435875274755 name=Cizzle Biotechnology plc username=CizzlePlc>, <User id=1473801217516216325 name=﮼لوُلي،🇯🇴 username=Laramaittah>, <User id=863691993217728512 name=Eric08 👨🏻‍🌾🦺🚜🚒🌱🌾🐮🚧⚡️ username=eric_ardennes>, <User id=1347117788 name=padmaja manepal username=manepal>, <User id=1438906884078047236 name=Parnian Hemmati username=medwithem>, <User id=1421330329768321024 name=Dr Suneet Jolly username=SuneetJolly>], includes={}, errors=[], meta={'result_count': 100, 'next_token': 'O85G1PVB5VRHEZZZ'})\n",
      "3235982505,1449386587838685186,1468637514894553088,2908821793,1059815347153444865,1151538204291416065,1381874581439397889,1511775273414545415,1394247037839937537,972053101,1511158493625126923,1476224553693106179,715137655240060929,1347128460934844417,1501491886447542275,1283269973146611712,963855686630244352,1235663978187157509,44425721,1222541387322753026,1171091058991804416,1270789866083594240,1344337388496015361,898918403146227712,1061457530,1145438976234467330,1509430495616155648,1553086760,1156169516143038465,414652290,1486723574291337217,38239502,56124776,1139491890280239107,1421744814438207489,894940062,25602947,1496449712093896707,1214828200540463104,772716782507462656,1267363318991327233,940206592192065536,1331778830265061376,1250552498009620480,1450838370528251915,1423180938671017985,1057379445412106240,43948275,1095373048700719106,23361767,2426610068,1227346511098499072,799512162,1408472764172877832,419440883,2395436191,609649133,1294360100212219906,33528248,1114939783191638019,951004667542212610,132644052,1487014282625699843,1377516656147230720,1504687598035513345,1176975242683715589,3376220441,1500204975557058560,286057102,719211993035644930,1494368501607194636,1265363310339411968,1351128442306252803,1488612825492766728,3436662533,4030418128,1422521888148967424,897010900548407296,827645687458385926,848737340319309824,1350002229755990017,3412106097,1047940296938586113,2869470708,1501479561984364547,1885493390,387379453,1093983823182917633,1375134947111890953,910335668,1027760989,1428898320102068224,1502440881055539201,1354797877420154889,1405454435875274755,1473801217516216325,863691993217728512,1347117788,1438906884078047236,1421330329768321024\n"
     ]
    }
   ],
   "source": [
    "\n",
    "\n",
    "def get_followers(user_id):\n",
    "    followers = client.get_users_followers(id=user_id)\n",
    "    print(followers)\n",
    "    string_followers = \"\"\n",
    "    for user in followers.data:\n",
    "        string_followers += str(user.id) + \",\"\n",
    "\n",
    "    string_followers = string_followers[:-1] # remove last comma\n",
    "    return string_followers"
   ]
  },
  {
   "cell_type": "code",
   "execution_count": null,
   "id": "ab7f2c6f",
   "metadata": {},
   "outputs": [],
   "source": [
    "# now get all information from tweets and write in excel file\n",
    "workbook = xlsxwriter.Workbook('tweets_database.xlsx')\n",
    "worksheet = workbook.add_worksheet()\n",
    "\n",
    "for row, id in enumerate(tweets_id):\n",
    "    tweets_response = client.get_tweet(id=id,expansions=[\"author_id\",\"geo.place_id\"],place_fields=\"country\")\n",
    "    author_id = tweets_response.includes[\"users\"][0].id\n",
    "    tweet_data = tweets_response.data\n",
    "    tweet_text = tweet_data.text\n",
    "    hashtag = main_hashtag(tweet_text.lower())\n",
    "    followers = get_followers(author_id)\n",
    "    retweet = text.includes(\"RT @\")\n",
    "    location = tweet_data.includes\n",
    "    # JÄI TÄHÄN KESKEN LOCATION PITÄÄ SELVITTÄÄ\n",
    "    \n",
    "    "
   ]
  },
  {
   "cell_type": "code",
   "execution_count": 35,
   "id": "f45959bb",
   "metadata": {},
   "outputs": [],
   "source": [
    "# MAKE A .xlsx database from tweets using xlsxwriter\n",
    "# testing to write a xlsx file\n",
    "row, col = 0, 0\n",
    "\n",
    "workbook = xlsxwriter.Workbook('tweets_database.xlsx')\n",
    "worksheet = workbook.add_worksheet()\n",
    "worksheet.set_column('A:A', 20)\n",
    "bold = workbook.add_format({'bold': True}) # Style bold text for important columns\n",
    "\n",
    "worksheet.write('A1', '#stopsmoking')\n",
    "worksheet.write('B1', author_id)\n",
    "worksheet.write('C1', tweet_data.text)\n",
    "worksheet.write('D1', string_followers)\n",
    "worksheet.write('E1', \"no\")\n",
    "\n",
    "\n",
    "workbook.close()\n"
   ]
  },
  {
   "cell_type": "code",
   "execution_count": null,
   "id": "3e7b591c",
   "metadata": {},
   "outputs": [],
   "source": []
  }
 ],
 "metadata": {
  "kernelspec": {
   "display_name": "Python 3 (ipykernel)",
   "language": "python",
   "name": "python3"
  },
  "language_info": {
   "codemirror_mode": {
    "name": "ipython",
    "version": 3
   },
   "file_extension": ".py",
   "mimetype": "text/x-python",
   "name": "python",
   "nbconvert_exporter": "python",
   "pygments_lexer": "ipython3",
   "version": "3.9.12"
  }
 },
 "nbformat": 4,
 "nbformat_minor": 5
}
