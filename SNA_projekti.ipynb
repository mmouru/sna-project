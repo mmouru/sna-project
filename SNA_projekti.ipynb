{
 "cells": [
  {
   "cell_type": "code",
   "execution_count": 1,
   "id": "bbf3d21f",
   "metadata": {},
   "outputs": [],
   "source": [
    "import tweepy\n",
    "import config as cfg\n",
    "import xlsxwriter  # for excel file"
   ]
  },
  {
   "cell_type": "code",
   "execution_count": 2,
   "id": "a397deec",
   "metadata": {},
   "outputs": [],
   "source": [
    "client = tweepy.Client(bearer_token=cfg.BEARER_TOKEN)"
   ]
  },
  {
   "cell_type": "code",
   "execution_count": 3,
   "id": "f0d840e5",
   "metadata": {},
   "outputs": [],
   "source": [
    "query = '#stopsmoking OR \"#smokefree\"'\n",
    "response = client.search_recent_tweets(query=query, max_results=100)\n"
   ]
  },
  {
   "cell_type": "code",
   "execution_count": 4,
   "id": "8a605044",
   "metadata": {},
   "outputs": [
    {
     "name": "stdout",
     "output_type": "stream",
     "text": [
      "Response(data=[<Tweet id=1514173290096611332 text=\"RT @NewingtonChemi1: It's never too late to #JoinTheQuitters.\\n\\nContact us for #StopSmoking advice, products and support.\\n\\nEvery day is a go…\">, <Tweet id=1514172903041941508 text=\"It's never too late to #JoinTheQuitters.\\n\\nContact us for #StopSmoking advice, products and support.\\n\\nEvery day is a good day to #QuitSmoking.\\n\\nLet us help you start the journey to #NoSmoking today. https://t.co/HUsOC9R1Ns\">, <Tweet id=1514168001016344577 text='RT @NHSQuitTobacco: #Stopsmoking support is available for @BlackpoolHosp patients who smoke, including:\\n\\n• Bedside support during hospital…'>, <Tweet id=1514166536457625604 text='Colin and our team are in #Hastings town centre today! 10am until 3pm. \\n\\nPop in and say hello to find out more about our FREE service. https://t.co/jxtrG0HCQV\\n\\n#healthcheck #smokefree #weightloss #weightmanagement #eatwell #movemore #yourhealthmatters #healthyyou https://t.co/BERjjy1SIP'>, <Tweet id=1514166376776142850 text='@_Rheuma Main bhi tambaku chhorne ke liye logo ko Prerit karungi \\n#stopsmoking \\n#TobaccoFreeIndia'>, <Tweet id=1514162662858539011 text=\"RT @Quit_Newcastle: What stop smoking product has helped you?\\n\\nWe tailor our stop smoking treatments to suit our client's needs, and having…\">, <Tweet id=1514158237335097346 text='RT @EcigClick: #VApril is here and the aim is to educate #Smokers how they can use #Vaping to #QuitSmoking. We help to simplify what to loo…'>, <Tweet id=1514156696490418180 text='#VApril is here and the aim is to educate #Smokers how they can use #Vaping to #QuitSmoking. We help to simplify what to look for in e-liquid in our guide here https://t.co/QiMStqIt12. #THR #StopSmoking #Ecigclick https://t.co/ZKao7EQ5qC'>, <Tweet id=1514154320735920130 text=\"RT @Quit_Newcastle: What stop smoking product has helped you?\\n\\nWe tailor our stop smoking treatments to suit our client's needs, and having…\">, <Tweet id=1514151476528037888 text=\"What stop smoking product has helped you?\\n\\nWe tailor our stop smoking treatments to suit our client's needs, and having dual therapy works too! We have different treatments to choose from see for yourself 👇\\n\\nhttps://t.co/fVreevWNyP\\n\\n#stopsmoking #treatments #smokefree #NRT\">, <Tweet id=1514151403320606721 text='More than 8 million people die because of smoking each year. 7 million of those are direct smokers &amp; around 1.2 million are non-smokers exposed to second-hand smoke.\\n#Stopsmoking\\n#Smokingkills https://t.co/hBmCC6zqoY'>, <Tweet id=1514146827607572488 text='RT @NHSQuitTobacco: #Stopsmoking support is available for @BlackpoolHosp patients who smoke, including:\\n\\n• Bedside support during hospital…'>, <Tweet id=1514144051368443915 text='#Stopsmoking support is available for @BlackpoolHosp patients who smoke, including:\\n\\n• Bedside support during hospital stays \\n• Free stop smoking medications \\n• Up to 12 weeks community support after discharge \\n\\nAsk ward staff for details\\n\\n#SmokefreeBTH https://t.co/jdAx9oM6Uc'>, <Tweet id=1514142739746758662 text='RT @OneYouESussex: Please read this important safety advice relating to the use of Emollients and risk of severe and fatal burns https://t.…'>, <Tweet id=1514142425585000449 text='Now open for applications! \\n🌟Maternity Stop Smoking Advisor East and North Herts NHS Trust 🌟 \\n@enherts @NHSEastEngland  #nhsjobs #hertfordshire #jobsearch #quitsmoking #smokefree #nhs #careers #maternity #midwifery #msw #maternitysupportworker https://t.co/k13YD1snLW'>, <Tweet id=1514138157175894019 text='Facebook : institutmasa\\nTwitter : institutmasa\\nLinkedIn : institutmasa\\nWeb : https://t.co/S9L0tWqhKv\\n\\n#InstitutMASA\\n#MakmurBersama\\n#MASAuntukMakmurBersama\\n#StopSmoking\\n#Ramadan'>, <Tweet id=1514131684370919426 text='https://t.co/mJb0xfASbs tell me why i got this in the mail today, for free #freeweed\\n#wickedcampers #smokefree #aeriz #smokepurpp #ganjagoddess #spliff #ashtray #cannabiscup #smokeweed https://t.co/w1yyrF8NiX'>, <Tweet id=1514121361781923847 text=\"What stop smoking product has helped you?\\n\\nWe tailor our stop smoking aids to suit our client's needs, and having dual therapy works too! We have different treatments to choose from, see for yourself  👇\\n\\nhttps://t.co/YmqgAhFPdd\\n\\n#stopsmoking #treatments  #NRT\">, <Tweet id=1514113675250089989 text='@BallysTwinRiver Will never return to your smoke filled toxic casino until u restore nosing it  Smokefree for everyone just like Maryland New York mass Delaware anf so many others !!'>, <Tweet id=1514109123469664256 text='@BorgataAC Your ceo Travis Lunn is against a smoking ban indicates greed over health of employees and patrons. Ironically a smoking ban will be a win win for saving lives, saving health care costs /cleaning costs and gain more revenue from the 86% or more who are non smokers. \\nSmokefree AC https://t.co/N0GIOhfYtH'>, <Tweet id=1514106916989018112 text='https://t.co/lu2a8o1NUJ did you get your free #weed\\n#smokeup #smokes #weshouldsmoke #smokefree #instaweed #nugs #weedporn #weedgrower #weedsmokers https://t.co/rbOgo1Jkvp'>, <Tweet id=1514094755591778305 text='@Branderprise @andrewc702 @miketorse @VitalVegas @PlazaLasVegas They just announced they have surpassed their income from pre-covid times. They’re booking! (And currently 75% SmokeFree)'>, <Tweet id=1514089596988010499 text='@Gwk1313 @VitalVegas @PlazaLasVegas It’s thriving actually, has been SmokeFree for a while'>, <Tweet id=1514079789107322881 text=\"RT @EcigClick: Want to #StopSmoking using e-cigarettes - but don't know where to start? We look at the best #Vape starter kits to get you g…\">, <Tweet id=1514075093214928906 text='RT @ayurvedanelly: Did you know? ! 🚭🚭\\nhttps://t.co/MVXsHQ79qA \\nShop #smoking cessation products from @iHerb\\nhttps://t.co/FcbNuoJakU\\n#Commit…'>, <Tweet id=1514072222582947844 text='@WayneParryAC Much more then 250 there but main thing is we aren’t going away and taking this all the way to the governors desk to sign!! Smokefree AC!! https://t.co/OcsxRc6hKX'>, <Tweet id=1514070937016180743 text='RT @EcigClick: Want to get started with #Vaping? We have lots of guides to help you work out where to start! https://t.co/VyWjwNPX13  #VApr…'>, <Tweet id=1514069270044495874 text='Did you know? ! 🚭🚭\\nhttps://t.co/MVXsHQ79qA \\nShop #smoking cessation products from @iHerb\\nhttps://t.co/FcbNuoJakU\\n#CommitToQuit #StopSmoking \\n#smokingcessation🔚 https://t.co/HH7voDA4p8'>, <Tweet id=1514061813012258816 text='RT @healthyrrific1: 10 Tips to Stop Smoking for Good https://t.co/DxpKDkSwmD #healthyrrific #stopsmoking #quitsmoking'>, <Tweet id=1514043492674293763 text='@BCSlots @ANR_Smokefree There’s never a wrong time to do the right thing! Let’s move this to the finish line and full steam ahead.'>, <Tweet id=1514043207595831296 text='@BCSlots @ANR_Smokefree “The whole world has figured out how to eat outside and smoke outside,” said Assemblywoman Claire Swift, a Republican. “The nine casinos can figure it out.” https://t.co/XsMdCf7v1y'>, <Tweet id=1514036876910510081 text='Each day without one, I become a stronger, better version of me. - Smokefree Bridget https://t.co/dnUD5dNOYu'>, <Tweet id=1514035833111728135 text='@NBCPhiladelphia @tedgreenbergNBC Was many more then 250 there, but good report Ted. Thanks for being there. These bills will pass no matter what the naysayers keep lying about the numbers. Md ny and Delaware all have Smokefree casinos and hundreds of others across the country with record revenues. https://t.co/lA6nyiwNt0'>, <Tweet id=1514035063226253321 text=\"Today, make an effort not to compare yourself to others. Everyone's quit is different. https://t.co/6wPv1mEH7B\">, <Tweet id=1514026893011566598 text='FRIDAY NIGHT KARAOKE at OLD SCHOOL PIZZA TAVERN, 603 W Abram St, Arlington, Tx 76010 (Near UTA)\\nKaraoke starts at 7:00pm till 10:00pm.\\nSMOKE-FREE...KID-Friendly\\n#karaoke #KaraokeFridays #smokefree #oldschoolpizzatavern https://t.co/kXILNsOoDr'>, <Tweet id=1514017753459572739 text='RT @TobaccoFreeFin: Sun, sea and now #smokefree: #Barcelona bans #cigarettes on the beach. The decision comes after a pilot project las yea…'>, <Tweet id=1514015828752142346 text='RT @RedbridgeEh: You have been following us for sometime now. Today  is the start of a New week, a new day! Today is the day to call us to…'>, <Tweet id=1514012620864565257 text=\"RT @SmokefreeUs: #QuittingSmoking is a process — it's OK to start small. Share our Practice Quit text program with your future #ExSmokers.…\">, <Tweet id=1514010961946025984 text=\"#QuittingSmoking is a process — it's OK to start small. Share our Practice Quit text program with your future #ExSmokers. They can try quitting for 1, 3, or 5 days (as many times as they want) to build skills for when they're ready to quit for good: https://t.co/034yUrVTwJ https://t.co/FxCh3Rauz2\">, <Tweet id=1514003012435341316 text='@truthinitiative @truthorange I don’t see how you can replace one nicotine delivery device with another and believe it’s going to help you quit smoking or vaping.  KISTICK’s can help by fulfilling the oral fixation part of quitting.  #QuitVaping #quitsmoking #thisisquitting #ThisIsQuitting\\n#SmokeFree https://t.co/GS9eOIndfq'>, <Tweet id=1514002469176578048 text='@Kickitca I don’t see how you can replace one nicotine delivery device with another and believe it’s going to help you quit smoking or vaping.  KISTICK’s can help by fulfilling the oral fixation part of quitting.  #QuitVaping #quitsmoking #thisisquitting #ThisIsQuitting #SmokeFree https://t.co/JhwaE0mULq'>, <Tweet id=1513995948359360515 text='RT @NCSCT: It was inspiring to hear @Raf_Hamaizia (expert by experience) talk at a meeting of smokefree mental health leads today'>, <Tweet id=1513995877576105985 text=\"When you look at this list, you've got to wonder how's that smokefree 2025 plan going? https://t.co/AqxfZaOE99 https://t.co/89kmpFWa54\">, <Tweet id=1513995446297018370 text='RT @NCSCT: It was inspiring to hear @Raf_Hamaizia (expert by experience) talk at a meeting of smokefree mental health leads today'>, <Tweet id=1513985450691727364 text='One thousand Americans #stopsmoking every day - by dying.'>, <Tweet id=1513983598323453976 text='Excited to see the new website @SCEPTREresearch (Promoting smoking cessation and preventing\\nrelapse to tobacco use following a smokefree\\nmental health inpatient stay) @SHSCFT https://t.co/MicJtD9W95'>, <Tweet id=1513982520500662277 text='RT @CanadianWeedWiz: #stopsmoking start #toking http://t.co/LPcG7cz5hc'>, <Tweet id=1513976851227881472 text='@brajeshlive #stopsmoking\\nSmoking . Cause???'>, <Tweet id=1513973049611145218 text='Nothing beats that feeling 💙 #stopsmoking https://t.co/P1ekCRLXTz'>, <Tweet id=1513972478187610116 text='Not only does it cost a lot, but when you vape 🚭, you breathe in chemicals ☣️ that hurt your lungs and heart ❤️, &amp; leave you feeling stressed 😩.\\n\\nTake your health into your own hands 🤲. Text “Start My Quit” to 36072 or talk with a coach at https://t.co/v4prTI8TS7. #SmokeFree https://t.co/XOKqBRMPdS'>, <Tweet id=1513969680007970822 text='RT @GRCOhio: Ohio physicians treating children ages birth to 1 year can see tremendous patient &amp; practice benefits with the smallest invest…'>, <Tweet id=1513968181836197890 text='RT @BlackpoolHosp: #Stopsmoking support is available for patients who smoke:\\n• Bedside support during hospital stays \\n• Free stop smoking m…'>, <Tweet id=1513965700771155968 text='#NEAFS #TEO #smokefree #tobaccofree #nicotine https://t.co/1Yw2kIMvI4'>, <Tweet id=1513965478305157124 text='#NEAFS #TEO #smokefree #tobaccofree #nicotine https://t.co/vHB3gKwwxY'>, <Tweet id=1513965076411125761 text='#NEAFS #TEO #smokefree #tobaccofree #nicotine https://t.co/njuH3sy17s'>, <Tweet id=1513964881510162434 text='#NEAFS #TEO #smokefree #tobaccofree #nicotine https://t.co/dsf0yEQCaR'>, <Tweet id=1513961996219256837 text='RT @achievelifesci: We are excited to be enrolling participants in our ORCA-3 study! If you’re a daily cigarette #smoker &amp; have previously…'>, <Tweet id=1513956673748144133 text='We are excited to be enrolling participants in our ORCA-3 study! If you’re a daily cigarette #smoker &amp; have previously failed at least one attempt to #stopsmoking with or without therapeutic support, this study might be an option. To learn more, visit https://t.co/A18YaGT2x1 https://t.co/CcM5VLlVnU'>, <Tweet id=1513947922509008907 text=\"It's never too late to #JoinTheQuitters.\\n\\nContact us for #StopSmoking advice, products and support.\\n\\nEvery day is a good day to #QuitSmoking.\\n\\nLet us help you start the journey to #NoSmoking today. https://t.co/ZTwIHGY3Tc\">, <Tweet id=1513944506428657665 text='RT @insaneyamlite: A nice tagline for edibles and brownies- \\nTaste me best \\nTakes you to everest. \\n#stopsmoking 🤝'>, <Tweet id=1513940990490550276 text='@WayneParryAC It will pass and nobody cares what Lupo or mcdevitt has to say. This time they will get it right, it’s a serious health issue and everyone knows it. There are so many Smokefree casinos in the world and pa md ny are all Smokefree and so will nj.'>, <Tweet id=1513939643904966660 text='@SenPolistina Senator: Thank u for your speech today and strong support of Smokefree casinos. \\n\\nhttps://t.co/VlwvPLnNVF'>, <Tweet id=1513937259829018627 text='It was inspiring to hear @Raf_Hamaizia (expert by experience) talk at a meeting of smokefree mental health leads today'>, <Tweet id=1513935801037508609 text='@WayneParryAC Thanks for coverage. A few things… no quotes in your article from senator Polistina who gave a great speech to\\nThe more then 250 (more 400 from what we saw).  Local 54 mcdevitt doesn’t represent the majority of employees who are non union and support Smokefree casinos.'>, <Tweet id=1513933489783123975 text='There are many ways to #quitsmoking but #lasertherapy for #stopsmoking is one of the best https://t.co/JdOi5PkbvM #stopsmokinglaser #quitsmoking #Smokingcessation #laserstopsmokingnj #stopsmokingnearme #stopsmokinglasernj https://t.co/MUJVax0Vkx'>, <Tweet id=1513933488822575112 text='There are many ways to #quitsmoking but #lasertherapy for #stopsmoking is one of the best https://t.co/m2vcGVvHnR #stopsmokinglaser #quitsmoking #Smokingcessation #laserstopsmokingnj #stopsmokingnearme #stopsmokinglasernj https://t.co/JP7ika7a83'>, <Tweet id=1513933488809988099 text='There are many ways to #quitsmoking but #lasertherapy for #stopsmoking is one of the best https://t.co/GNQtkqjva2 #stopsmokinglaser #quitsmoking #Smokingcessation #laserstopsmokingnj #stopsmokingnearme #stopsmokinglasernj https://t.co/RQhnVf9fiw'>, <Tweet id=1513933488550035465 text='There are many ways to #quitsmoking but #lasertherapy for #stopsmoking is one of the best https://t.co/mT1ycxjgDY #stopsmokinglaser #quitsmoking #Smokingcessation #laserstopsmokingnj #stopsmokingnearme #stopsmokinglasernj https://t.co/rEQs94SbU8'>, <Tweet id=1513932122083450894 text='@UniteHere40 @unitehere Bob mcdevitt local54in ac: “While we want to ensure that our members work in a safe work environment banning smoking in NJ casinos would mean lost jobs for our union”.   u don’t speak for thousands of non union members casino employees who\\nReject u !we support Smokefree casinos!!'>, <Tweet id=1513920160440193029 text='Stay connected with friends and family virtually.  Getting support from positive people can lift you up and help you quit. Learn more about getting help: https://t.co/cS84oHJ2x8'>, <Tweet id=1513916839990300675 text='RT @NadaPehchaan: @WHO #Tobaccokills, it harms our #lovedones, #youth, #biodiversity &amp; #Planet. Keep your bodies and the #environment free…'>, <Tweet id=1513916721844957184 text=\"RT @AkshayS72638141: #Tobacco is highly addictive ! Let's create a healthy future together! Make our #India smokefree &amp; #Healthy #supportCO…\">, <Tweet id=1513916701125263360 text=\"RT @AkshayS72638141: #Tobacco is highly addictive ! Let's create a healthy future together! Make our #India smokefree &amp; #Healthy #supportCO…\">, <Tweet id=1513910074728660995 text='#Stopsmokinglasertherapy is an effective way to #quitsmoking #stopsmoking with laser treatments offered @BrunswickMediSpa in #EastBrunswick https://t.co/EmdBxAwwlT https://t.co/RKaLuJMzYb'>, <Tweet id=1513909720976818177 text='its very easy to quit smoking when fear about your health. just like your fear of faith in the days of Fasting .\\n\\nNothing is impossible if you are conscious. \\n\\n#StopSmoking #lunghealth'>, <Tweet id=1513908952026726406 text='Have you seen our article in @JambalayaNewsLA? Healthier Air For All is in Shreveport! Shreveport residents, you can learn more at https://t.co/JlkcWwIcst.\\n\\nYou can read the article here: https://t.co/ufli9mWTkX\\n\\n#smokefree #smokefreeliving https://t.co/hDW6q4v67U'>, <Tweet id=1513908819323240465 text='#Stopsmokinglasertherapy is an effective way to #quitsmoking #stopsmoking with laser treatments offered @BrunswickMediSpa in #EastBrunswick https://t.co/UBSoiqZh1G https://t.co/DffYyQUAjV'>, <Tweet id=1513907559224250375 text='#Stopsmokinglasertherapy is an effective way to #quitsmoking #stopsmoking with laser treatments offered @BrunswickMediSpa in #EastBrunswick https://t.co/DUcNzs5Gxm https://t.co/vBBYYyur5P'>, <Tweet id=1513906298416508938 text='#Stopsmokinglasertherapy is an effective way to #quitsmoking #stopsmoking with laser treatments offered @BrunswickMediSpa in #EastBrunswick https://t.co/O0oWQwL8Cf https://t.co/KFW3SKKWFg'>, <Tweet id=1513905452760842241 text='RT @BlackpoolHosp: #Stopsmoking support is available for patients who smoke:\\n• Bedside support during hospital stays \\n• Free stop smoking m…'>, <Tweet id=1513900623380598786 text='Stay connected while social distancing by connecting with friends and family virtually. Encourage your #Quitters to reach out and ask others for help. Getting support from positive people can lift them up and help them quit. Learn more about getting help: https://t.co/HZ6tZQkVtt https://t.co/BQR3xPfliJ'>, <Tweet id=1513897667616813060 text='RT @OneYouESussex: Please read this important safety advice relating to the use of Emollients and risk of severe and fatal burns https://t.…'>, <Tweet id=1513895176430891021 text='Complete 6 steps to get a personalized quit plan. \\n#3 - Think about your reasons for quitting\\n\\nClick here: https://t.co/YDaJnqiO6p\\n\\n#Smokefree #PersonalizedQuitPlan https://t.co/FpUBH68MKJ'>, <Tweet id=1513894407594029071 text='RT @rtl1025: 🚭 Da luglio le spiagge di #Barcellona saranno #smokefree: vietato, infatti, il fumo di #sigaretta. La decisione è stata presa…'>, <Tweet id=1513889612971888643 text='RT @GRCOhio: Ohio physicians treating children ages birth to 1 year can see tremendous patient &amp; practice benefits with the smallest invest…'>, <Tweet id=1513880817839321091 text='RT @NCSCT: This will be useful data for teams working on tobacco dependence treatment at a local/regional level\\n\\nICS briefings – Smokefree…'>, <Tweet id=1513877345161023488 text='Ohio physicians treating children ages birth to 1 year can see tremendous patient &amp; practice benefits with the smallest investment via #SmokeFree Families Pediatrics. Participation is easy and the outcomes are life-improving. https://t.co/tAwqk352rd @OHPediatricians @AmerAcadPeds https://t.co/jY2gf3DOSb'>, <Tweet id=1513876419755094019 text='RT @LancsHospitals: 🚭 Thinking of quitting smoking? Giving up smoking is good for your health and finances. \\n✅ For help and support talk to…'>, <Tweet id=1513873014257037325 text='98 days SmokeFree WTF! 😆'>, <Tweet id=1513871426624892935 text=\"RT @EcigClick: Want to #StopSmoking using e-cigarettes - but don't know where to start? We look at the best #Vape starter kits to get you g…\">, <Tweet id=1513864514755727363 text='Any amount of time smokefree gives the body – especially the lungs and bloodstream – the time to breathe again and take in the clean air needed to recover. Why not use #Ramadan to quit for good!\\n\\nFind local support here:\\nhttps://t.co/JN9nwhB25o\\n\\n#southampton #ramadan2022🌙 https://t.co/e0qw0gYwpk'>, <Tweet id=1513864437932957697 text='RT @UKBHWELL: People living with #BehavioralHealth challenges are #MoreLikely to: smoke, smoke more, want to #StopSmoking, die prematurely,…'>, <Tweet id=1513861999683321863 text='🚭 Thinking of quitting smoking? Giving up smoking is good for your health and finances. \\n✅ For help and support talk to a pharmacy team member about using the NHS 📱 Quit Smoking app\\n\\nGoogle Play: https://t.co/1rmEpYi88W\\nApple App Store: https://t.co/VyvV3Xwy4s https://t.co/hSqFoLZeZG'>, <Tweet id=1513860748396613638 text='People living with #BehavioralHealth challenges are #MoreLikely to: smoke, smoke more, want to #StopSmoking, die prematurely, and die from smoke-related illness.\\nhttps://t.co/zM19QPgayo\\n#Recovery #Live #Life #Love #ChooseHealth #ChooseLife https://t.co/WOCsowS1XF'>, <Tweet id=1513858972603887623 text=\"RT @TobaccoFreeKids: Congratulations to @unlv for going #smokefree this fall! It's a great policy to protect students, faculty, staff and v…\">, <Tweet id=1513856976089931784 text=\"This harrowing statistic is the reason we're so passionate about making Sheffield smokefree. There’s no one right way to quit, and finding the right way for you will mean you're more likely to succeed. \\n\\nhttps://t.co/JRJ541TWup #GiveUpSmoking #StopSmoking https://t.co/0Prhck37ic\">, <Tweet id=1513854393338241024 text='RT @rtl1025: 🚭 Da luglio le spiagge di #Barcellona saranno #smokefree: vietato, infatti, il fumo di #sigaretta. La decisione è stata presa…'>, <Tweet id=1513854196885381128 text='Still holding strong #smokefree #quitting #smoking https://t.co/ujqWpEui4B'>, <Tweet id=1513853170526605314 text='RT @FreshSmokeFree: 1/ \"We can break the cycle of people coming in and out of hospital, and give them some really good quality of life back…'>, <Tweet id=1513847615808495623 text='RT @sealebia: Are you looking for a luminous vape pen? Here is an 800puffs gorgeous disposable vape pen, check more at https://t.co/YwSmdPH…'>], includes={}, errors=[], meta={'newest_id': '1514173290096611332', 'oldest_id': '1513847615808495623', 'result_count': 100, 'next_token': 'b26v89c19zqg8o3fpytmag6mjavwvagd2ppeyj1sg8z25'})\n"
     ]
    }
   ],
   "source": [
    "print(response)"
   ]
  },
  {
   "cell_type": "code",
   "execution_count": 5,
   "id": "95c417cd",
   "metadata": {},
   "outputs": [],
   "source": [
    "tweet_ids = []\n",
    "for tweet in response.data:\n",
    "    tweet_ids.append(tweet.id)\n",
    "    \n"
   ]
  },
  {
   "cell_type": "code",
   "execution_count": 6,
   "id": "ee4bd8ca",
   "metadata": {},
   "outputs": [],
   "source": [
    "tweets_response = client.get_tweet(id=tweet_ids[0],expansions=[\"author_id\",\"geo.place_id\"],place_fields=\"country\")\n"
   ]
  },
  {
   "cell_type": "code",
   "execution_count": null,
   "id": "63473b06",
   "metadata": {},
   "outputs": [],
   "source": [
    "for tweet in tweets_response:\n",
    "    print(tweet)"
   ]
  },
  {
   "cell_type": "code",
   "execution_count": 27,
   "id": "6f3401eb",
   "metadata": {},
   "outputs": [
    {
     "name": "stdout",
     "output_type": "stream",
     "text": [
      "Response(data=<Tweet id=1514173290096611332 text=\"RT @NewingtonChemi1: It's never too late to #JoinTheQuitters.\\n\\nContact us for #StopSmoking advice, products and support.\\n\\nEvery day is a go…\">, includes={'users': [<User id=1375244479049895941 name=Preventive Medicine Bot username=PreventiveBot>]}, errors=[], meta={})\n"
     ]
    },
    {
     "data": {
      "text/plain": [
       "True"
      ]
     },
     "execution_count": 27,
     "metadata": {},
     "output_type": "execute_result"
    }
   ],
   "source": [
    "# we have to decide how to choose the main hashtag from two somehow (not implemented yet)\n",
    "\n",
    "print(tweets_response)\n",
    "author_id = tweets_response.includes[\"users\"][0].id\n",
    "tweet_data = tweets_response.data\n",
    "\"#stopsmoking\" in tweet_data.text.lower()"
   ]
  },
  {
   "cell_type": "code",
   "execution_count": 32,
   "id": "80c70243",
   "metadata": {},
   "outputs": [
    {
     "name": "stdout",
     "output_type": "stream",
     "text": [
      "Response(data=[<User id=3235982505 name=Jayne Allison username=jaynelouisealli>, <User id=1449386587838685186 name=All topics of life username=Alltopicsoflife>, <User id=1468637514894553088 name=PrettyLoudProject username=BePrettyLoud>, <User id=2908821793 name=iSono Health username=isonohealth>, <User id=1059815347153444865 name=Tamara Escañuela Sánchez username=EscanuelaTamara>, <User id=1151538204291416065 name=Peyton Stout username=PeytonStout20>, <User id=1381874581439397889 name=Jessica Perugini username=JessicaPerugin3>, <User id=1511775273414545415 name=Idealistic 💡🇳🇬✨😚 username=a_gift2you>, <User id=1394247037839937537 name=LAGARON SANDRINE username=LagaronS>, <User id=972053101 name=Leslie Ferris Yerger username=Leslie_Ferris>, <User id=1511158493625126923 name=Jesse Riddle username=HoosierManeuver>, <User id=1476224553693106179 name=ContentGeneMD username=ContentGeneMD>, <User id=715137655240060929 name=Jean Mieg username=jean_mieg>, <User id=1347128460934844417 name=GenoMed4All H2020 project username=genomed4all>, <User id=1501491886447542275 name=AT username=at_amai>, <User id=1283269973146611712 name=Dr Guoyan Emily Yang username=EmilyGuoyan>, <User id=963855686630244352 name=Vikram Sinai Talaulikar username=VikramSinai>, <User id=1235663978187157509 name=Gen Z and Millennials Against 5G username=YouthAgainst5G>, <User id=44425721 name=Zoleka Mandela username=ZolekaMandela>, <User id=1222541387322753026 name=Institut Renaudot username=IRenaudot>, <User id=1171091058991804416 name=Jenn Houseman username=JENNIFERHousem2>, <User id=1270789866083594240 name=End Pandemics username=EndPandemics>, <User id=1344337388496015361 name=Plant Power 🍏🍎🍑🍅🥦 username=plantpowerdiets>, <User id=898918403146227712 name=Lucia Pia Ciccone, MD username=LpCiccone>, <User id=1061457530 name=Paul Rosengard username=paulrosengard>, <User id=1145438976234467330 name=Bharat username=Bhosale26Bharat>, <User id=1509430495616155648 name=Bella username=Bella10214486>, <User id=1553086760 name=Fidaa ghazal username=FidaaGhazal>, <User id=1156169516143038465 name=Stay Safe username=StaySafeorg>, <User id=414652290 name=Sussex Cancer Fund username=SxCancerFund>, <User id=1486723574291337217 name=Simones De Gaulléon username=SDegaulleon>, <User id=38239502 name=Dr Denise Proudfoot 😷 username=Denproud>, <User id=56124776 name=Tracy Parr username=TracyDBeaker>, <User id=1139491890280239107 name=Association Nationale Cheville du Sportif - ANCIS username=Dr_C_Cermolacce>, <User id=1421744814438207489 name=Dances with Cancer username=FamilialGenes>, <User id=894940062 name=Naomi Davies, MSc username=naomi_jayne06>, <User id=25602947 name=Deirdre Jackson username=dasuat>, <User id=1496449712093896707 name=asklipios_diagnosis username=asklipios_>, <User id=1214828200540463104 name=Elimaje username=Elimaje1>, <User id=772716782507462656 name=Key Unlocking Futures username=KeyUFCharity>, <User id=1267363318991327233 name=Dr. Marianne Moussallem username=MarianneMsallem>, <User id=940206592192065536 name=Cancer Care Surrey username=CancerAtSurrey>, <User id=1331778830265061376 name=Frontiers in Bioscience-Landmark username=BiosciResInst>, <User id=1250552498009620480 name=Advantage Hypnotherapy username=AdvantageHypno>, <User id=1450838370528251915 name=Assisting TCA username=TherapyCareApp>, <User id=1423180938671017985 name=Clinique médicale et cardiologique d'Aressy username=cliniquearessy>, <User id=1057379445412106240 name=Corine Masson username=cmasson_sante>, <User id=43948275 name=Diabetes Self-Mgmt username=ManageDiabetes>, <User id=1095373048700719106 name=SP FORMA - Formations CACES® et Sécurité username=forma_sp>, <User id=23361767 name=Shane Lambert - Indie Author username=UncoolNegated>, <User id=2426610068 name=Sajan Nagpal, MD username=sajannagpalMD>, <User id=1227346511098499072 name=🍀 Willie_7-1 🍀 username=Willie7118>, <User id=799512162 name=maria montoya username=prekrox>, <User id=1408472764172877832 name=Healthy Living username=Healthy86517392>, <User id=419440883 name=Milos Stojanovic username=StojanovM>, <User id=2395436191 name=Jeff R Temple, PhD username=DrJeffTemple>, <User id=609649133 name=Dr. Farabeuf username=DrFarabeufCx>, <User id=1294360100212219906 name=ChrisFreeMan username=Chris_FreeMan88>, <User id=33528248 name=NAACCR, Inc. username=NAACCR>, <User id=1114939783191638019 name=Roberta Horgan 🇨🇮 🇺🇦 username=HorganRoberta>, <User id=951004667542212610 name=eroslifestyle username=Eros_Lifestyle>, <User id=132644052 name=Count Me In username=count_me_in>, <User id=1487014282625699843 name=JP Jewellers Morbi username=JpMorbi>, <User id=1377516656147230720 name=ARAP Rubis username=ArapRubis>, <User id=1504687598035513345 name=Guinée Action Pour Le Développement (GAD) username=gadguinee>, <User id=1176975242683715589 name=Valentin Calu username=ValentinCalu>, <User id=3376220441 name=Benjamin Levy username=BenLevyCello>, <User id=1500204975557058560 name=Ef-seller username=stsr969911>, <User id=286057102 name=Muhammad ayaz abbasi username=asn_abbasi786>, <User id=719211993035644930 name=ONUSIDA HAITI username=OnusidaHaiti>, <User id=1494368501607194636 name=Changing Life & Destiny Conference username=changelifedest>, <User id=1265363310339411968 name=Dépistage des cancers en Ile-de-France username=CRCDC_IDF>, <User id=1351128442306252803 name=shweta baral username=BaralShweta>, <User id=1488612825492766728 name=Nicole Lewis username=NicoleL49793834>, <User id=3436662533 name=Bichat Addiction username=bichataddiction>, <User id=4030418128 name=Brian Brown username=brown_brian_>, <User id=1422521888148967424 name=Munir Faswala username=munir_faswala>, <User id=897010900548407296 name=Cat McGill 😎🧚‍♀️🤦🏼‍♀️ username=RealCatMcGill>, <User id=827645687458385926 name=HERVE CARRESSE username=WALTERLURE75>, <User id=848737340319309824 name=Duduna Porbeni username=DudunaPorbeni>, <User id=1350002229755990017 name=CRCDC Grand Est username=CrcdcEst>, <User id=3412106097 name=fazilshah shalmani username=ShahMahik>, <User id=1047940296938586113 name=Amelie BOSSARD username=AmelieBossard>, <User id=2869470708 name=Dr. Todd Ewing PhD username=EwingT_PhD>, <User id=1501479561984364547 name=Viral Hospital username=HospitalViral>, <User id=1885493390 name=Daljit ਦਲਜੀਤ 🌈 RGN RSCN RHV MBA username=daljitathwal>, <User id=387379453 name=Ronald Hsu MD username=rkhsusa>, <User id=1093983823182917633 name=Dr Lucy McGregor username=drlucymcg>, <User id=1375134947111890953 name=Revesolv username=Revesolv1>, <User id=910335668 name=Choupo-Moting username=mizulfitri>, <User id=1027760989 name=David Reynolds McCormick username=NoDaveme>, <User id=1428898320102068224 name=Ojay Salomon username=OjaySalomon>, <User id=1502440881055539201 name=Live and learn username=FightingMail>, <User id=1354797877420154889 name=Tobacco Harm Reduction CZ username=HarmReductionCZ>, <User id=1405454435875274755 name=Cizzle Biotechnology plc username=CizzlePlc>, <User id=1473801217516216325 name=﮼لوُلي،🇯🇴 username=Laramaittah>, <User id=863691993217728512 name=Eric08 👨🏻‍🌾🦺🚜🚒🌱🌾🐮🚧⚡️ username=eric_ardennes>, <User id=1347117788 name=padmaja manepal username=manepal>, <User id=1438906884078047236 name=Parnian Hemmati username=medwithem>, <User id=1421330329768321024 name=Dr Suneet Jolly username=SuneetJolly>], includes={}, errors=[], meta={'result_count': 100, 'next_token': 'O85G1PVB5VRHEZZZ'})\n",
      "3235982505,1449386587838685186,1468637514894553088,2908821793,1059815347153444865,1151538204291416065,1381874581439397889,1511775273414545415,1394247037839937537,972053101,1511158493625126923,1476224553693106179,715137655240060929,1347128460934844417,1501491886447542275,1283269973146611712,963855686630244352,1235663978187157509,44425721,1222541387322753026,1171091058991804416,1270789866083594240,1344337388496015361,898918403146227712,1061457530,1145438976234467330,1509430495616155648,1553086760,1156169516143038465,414652290,1486723574291337217,38239502,56124776,1139491890280239107,1421744814438207489,894940062,25602947,1496449712093896707,1214828200540463104,772716782507462656,1267363318991327233,940206592192065536,1331778830265061376,1250552498009620480,1450838370528251915,1423180938671017985,1057379445412106240,43948275,1095373048700719106,23361767,2426610068,1227346511098499072,799512162,1408472764172877832,419440883,2395436191,609649133,1294360100212219906,33528248,1114939783191638019,951004667542212610,132644052,1487014282625699843,1377516656147230720,1504687598035513345,1176975242683715589,3376220441,1500204975557058560,286057102,719211993035644930,1494368501607194636,1265363310339411968,1351128442306252803,1488612825492766728,3436662533,4030418128,1422521888148967424,897010900548407296,827645687458385926,848737340319309824,1350002229755990017,3412106097,1047940296938586113,2869470708,1501479561984364547,1885493390,387379453,1093983823182917633,1375134947111890953,910335668,1027760989,1428898320102068224,1502440881055539201,1354797877420154889,1405454435875274755,1473801217516216325,863691993217728512,1347117788,1438906884078047236,1421330329768321024\n"
     ]
    }
   ],
   "source": [
    "user_id = tweets_response.includes[\"users\"][0].id\n",
    "followers = client.get_users_followers(id=user_id)\n",
    "print(followers)\n",
    "string_followers = \"\"\n",
    "for user in followers.data:\n",
    "    string_followers += str(user.id) + \",\"\n",
    "\n",
    "string_followers = string_followers[:-1] # remove last comma\n",
    "print(string_followers)"
   ]
  },
  {
   "cell_type": "code",
   "execution_count": 35,
   "id": "f45959bb",
   "metadata": {},
   "outputs": [],
   "source": [
    "# MAKE A .xlsx database from tweets using xlsxwriter\n",
    "# testing to write a xlsx file\n",
    "row, col = 0, 0\n",
    "\n",
    "workbook = xlsxwriter.Workbook('tweets_database.xlsx')\n",
    "worksheet = workbook.add_worksheet()\n",
    "worksheet.set_column('A:A', 20)\n",
    "bold = workbook.add_format({'bold': True}) # Style bold text for important columns\n",
    "\n",
    "worksheet.write('A1', '#stopsmoking')\n",
    "worksheet.write('B1', author_id)\n",
    "worksheet.write('C1', tweet_data.text)\n",
    "worksheet.write('D1', string_followers)\n",
    "worksheet.write('E1', \"no\")\n",
    "\n",
    "\n",
    "workbook.close()\n"
   ]
  },
  {
   "cell_type": "code",
   "execution_count": null,
   "id": "3e7b591c",
   "metadata": {},
   "outputs": [],
   "source": []
  }
 ],
 "metadata": {
  "kernelspec": {
   "display_name": "Python 3 (ipykernel)",
   "language": "python",
   "name": "python3"
  },
  "language_info": {
   "codemirror_mode": {
    "name": "ipython",
    "version": 3
   },
   "file_extension": ".py",
   "mimetype": "text/x-python",
   "name": "python",
   "nbconvert_exporter": "python",
   "pygments_lexer": "ipython3",
   "version": "3.9.12"
  }
 },
 "nbformat": 4,
 "nbformat_minor": 5
}
