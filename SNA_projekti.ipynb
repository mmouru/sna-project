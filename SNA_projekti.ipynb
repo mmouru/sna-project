{
 "cells": [
  {
   "cell_type": "code",
   "execution_count": 6,
   "id": "bbf3d21f",
   "metadata": {},
   "outputs": [],
   "source": [
    "import tweepy\n",
    "import config as cfg"
   ]
  },
  {
   "cell_type": "code",
   "execution_count": 7,
   "id": "a397deec",
   "metadata": {},
   "outputs": [],
   "source": [
    "client = tweepy.Client(bearer_token=cfg.BEARER_TOKEN)"
   ]
  },
  {
   "cell_type": "code",
   "execution_count": 8,
   "id": "f0d840e5",
   "metadata": {},
   "outputs": [],
   "source": [
    "response = client.search_recent_tweets(query=\"tupakka\", max_results=10)"
   ]
  },
  {
   "cell_type": "code",
   "execution_count": 9,
   "id": "8a605044",
   "metadata": {},
   "outputs": [
    {
     "name": "stdout",
     "output_type": "stream",
     "text": [
      "Response(data=[<Tweet id=1513892688462024721 text='@Jrvinen_J Ylinopeusakot on hyvä maksaa siten ettei osta viinaa. Kuittaa ne sitten alkoholiverolla tai tupakka verolla. Sakot 0 €'>, <Tweet id=1513875463990566924 text='THL selvitti nuorten tupakkatuotteiden käyttöä. Ikävä kyllä tupakkatuotteiden, etenkin nuuskan, hankinta sosiaalisen median kautta on yleistynyt. #nuuska #tupakka @THLorg  https://t.co/GnkJ6vub3N'>, <Tweet id=1513868414347100161 text='RT @ValviraViestii: Kouluissa leviää huolestuttava ilmiö, jossa nuoret käyttävät sähkötupakkaa. #tupakka #sähkötupakka #nikotiini https://t…'>, <Tweet id=1513866728538787848 text='Kouluissa leviää huolestuttava ilmiö, jossa nuoret käyttävät sähkötupakkaa. #tupakka #sähkötupakka #nikotiini https://t.co/WTFA1AFQ2n'>, <Tweet id=1513837368394108933 text='@janne_ylinen Onko tupakka ja keskikalja tulossa valikoimiin?'>, <Tweet id=1513832635503628290 text='@duukkis Eikä alkoholi, tupakka, 23 astetta sisällä tai lihapihvit.'>, <Tweet id=1513814006267621379 text='RT @O_Tiainen: Fossiiliset aiheuttavat enemmän kuolemia kuin tupakka. Tupakan mainonta on jo kielletty, seuraavaksi kielletään fossiilimain…'>, <Tweet id=1513805877723205640 text='RT @O_Tiainen: Fossiiliset aiheuttavat enemmän kuolemia kuin tupakka. Tupakan mainonta on jo kielletty, seuraavaksi kielletään fossiilimain…'>, <Tweet id=1513799144451805184 text='Markkinavalvonnan sääntelyä uudistettiin eilen 11.4. voimaan tulleilla markkinavalvontalain muutoksilla. Tupakkalain valvonnan työkaluja yhtenäistettiin samalla. #tupakka https://t.co/H9RRekxF33'>, <Tweet id=1513785066450739201 text='RT @O_Tiainen: Fossiiliset aiheuttavat enemmän kuolemia kuin tupakka. Tupakan mainonta on jo kielletty, seuraavaksi kielletään fossiilimain…'>], includes={}, errors=[], meta={'newest_id': '1513892688462024721', 'oldest_id': '1513785066450739201', 'result_count': 10, 'next_token': 'b26v89c19zqg8o3fpytmae33glwja439fxfi4txo1i35p'})\n"
     ]
    }
   ],
   "source": [
    "print(response)"
   ]
  },
  {
   "cell_type": "code",
   "execution_count": null,
   "id": "95c417cd",
   "metadata": {},
   "outputs": [],
   "source": []
  }
 ],
 "metadata": {
  "kernelspec": {
   "display_name": "Python 3 (ipykernel)",
   "language": "python",
   "name": "python3"
  },
  "language_info": {
   "codemirror_mode": {
    "name": "ipython",
    "version": 3
   },
   "file_extension": ".py",
   "mimetype": "text/x-python",
   "name": "python",
   "nbconvert_exporter": "python",
   "pygments_lexer": "ipython3",
   "version": "3.9.12"
  }
 },
 "nbformat": 4,
 "nbformat_minor": 5
}
